{
 "cells": [
  {
   "cell_type": "markdown",
   "metadata": {},
   "source": [
    "# <b>Probability,Bayes</b>"
   ]
  },
  {
   "cell_type": "markdown",
   "metadata": {},
   "source": [
    "# <b>Q.N.1</b>"
   ]
  },
  {
   "cell_type": "markdown",
   "metadata": {},
   "source": [
    "<b>S.N.1</b><br>\n",
    "\n",
    "About $\\frac{1}{125}$ of births are non-identical twins, and $\\frac{1}{300}$ of births are identical twins.<br> \n",
    "Elvis had a twin brother who died at birth.<br>\n",
    "What is the probability that Elvis was an identical twin?<br>\n",
    "(It can be assumed that the probability for the birth of a girl and a boy is equal to $\\frac{1}{2}$)<br>\n",
    "\n",
    "<b>Answer-S.N.1</b><br>\n",
    "To answer this question we will use 'Bayes theorem' as we learned, by using the formula: $P(A/B)=\\frac{P(B/A) \\times P(A)}{P(B)}$<br>\n",
    "\n",
    "We will define: <br><b>A</b>-event of identical boys twins<br> \n",
    "<b>b</b>-case of twin boys <br>\n",
    "The probability of non-identical twins -  $\\frac{1}{2} \\times \\frac{1}{2} \\times \\frac{1}{125} =\\frac{1}{500}$<br>\n",
    "$P(A)$=the probability of same gender (boys ond girls equaly) at births of indentical twins. <br>\n",
    "$P(A)=\\frac{1}{300} \\times \\frac{1}{2}$=$\\frac{1}{600}$ ($\\frac{1}{2}$ because its the same gender in case of identical twins) <br>\n",
    "\n",
    "$P(B)$=the probability of 2 twin boys - both cases such as births of non-identical births and also identical births.  <br>\n",
    "$P(B)=(\\frac{1}{125} \\times \\frac{1}{2} \\times \\frac{1}{2} )+ (\\frac{1}{300} \\times \\frac{1}{2}) $=$\\frac{11}{3000}$ <br>\n",
    "\n",
    "now we need to find $P(B/A)$-meaning given the case of birth of indentical twins, what is the probability of 2 boys?<br> \n",
    "We will use the formula as we learned:<br>\n",
    "$P(B/A)=\\frac{P(B \\cap A)}{P(A)}$<br>\n",
    "The meaning of $P(B \\cap A)$ is the case that the twin boys are also twin boys and also identical boys twins- there is correlation between cases so we need to refer only to the case of $P(A)$, means we can say:$P(B \\cap A)=P(A)=\\frac{1}{600}$ <br>\n",
    "back to the formula:$P(B/A)=\\frac{P(B \\cap A)}{P(A)}=\\frac{P(A)}{P(A)}=1$<br>\n",
    "\n",
    "now we will use again the formula of Bayes' theorem: $P(A/B)=\\frac{P(B/A) \\times P(A)}{P(B)}$<br>\n",
    "we will set the specific values:<br>\n",
    "$P(A/B)=\\frac{1 \\times \\frac{1}{600}} {\\frac{11}{3000}}= \\frac{5}{11} $<br>\n",
    "\n",
    "<b>The probability that Elvis was an identical twin is:$\\frac{5}{11} $</b><br>\n",
    "\n",
    "<b>S.N.2</b>\n",
    "\n",
    "There are 2 bowls of cookies. first bowl contains 10 almonds cookies, and 30 chocolate cookies.<br>\n",
    "second bowl contains 20 almonds cookies, and 20 chocolate cookies.<br>\n",
    "Eric chose random bowl and chose random cookie. the chosen cookie was chocolate.<br>\n",
    "What is the probability that Eric chose the first bowl?<br>\n",
    "\n",
    "<b>Answer-S.N.2</b><br>\n",
    "To answer this question we will use 'Bayes Theorem' as we learned, by using the formula: $P(A/B)=\\frac{P(B/A) \\times P(A)}{P(B)}$<br>\n",
    "\n",
    "We will define: <br>\n",
    "The probability to choose chocolate cookie from the first bowl: $\\frac{30}{40} \\times \\frac{1}{2}  =\\frac{3}{8}$<br> \n",
    "The probability to choose chocolate cookie from the seconed bowl: $\\frac{20}{40} \\times \\frac{1}{2}  =\\frac{1}{4}$<br> \n",
    " \n",
    "\n",
    "We will define: <br>\n",
    "$P(B)$=The probability to choose chocolate cookie from both bowls:<br>\n",
    "$P(B)$=$\\frac{3}{8} + \\frac{1}{4}  =\\frac{5}{8}$<br>\n",
    "$P(A)$=The probability to choose the first bowl. <br>\n",
    "$P(A)$=$\\frac{1}{2}$<br>\n",
    "\n",
    "We will use the formula as we learned:<br>\n",
    "$P(B/A)=\\frac{P(B \\cap A)}{P(A)}$<br>\n",
    "The meaning of $P(B \\cap A)$ is the case that we choose chocolate cookie from the first bowl-means we can say:$P(B \\cap A)=\\frac{30}{40} \\times \\frac{1}{2}=\\frac{3}{8}$ <br>\n",
    "\n",
    "back to the formula:$P(B/A)=\\frac{P(B \\cap A)}{P(A)}=\\frac{\\frac{3}{8}} {\\frac{1}{2}}=\\frac{3}{4}$<br>\n",
    "\n",
    "now we will use again the formula of 'Bayes theorem': $P(A/B)=\\frac{P(B/A) \\times P(A)}{P(B)}$<br>\n",
    "we will set the specific values:<br>\n",
    "$P(A/B)=\\frac{\\frac{3}{4} \\times \\frac{1}{2}} {\\frac{5}{8}}= \\frac{5}{11} $<br>\n",
    "\n",
    "<b>The probability that Arik choose the first bowl in given case that he chose random bowl and random cookie and get chocolate cookie is:$\\frac{3}{5} $<b><br>"
   ]
  },
  {
   "cell_type": "markdown",
   "metadata": {},
   "source": [
    "# <b>Q.N.2</b>"
   ]
  },
  {
   "cell_type": "markdown",
   "metadata": {},
   "source": [
    "In the year 1995, M&M company add the blue color.<br>\n",
    "Before this year,the distribution of the colors in M&M bag was:<br> \n",
    "30% Brown, 20% Yellow, 20% Red, 10% Green, 10% Orange, 10% Tan.<br>\n",
    "Since 1995, the distribution of the colors in M&M bag look like this:<br>\n",
    "24% Blue , 20% Green, 16% Orange, 14% Yellow, 13% Red, 13% Brown.<br>\n",
    "Our friend has 2 bags of M&M- one from 1994, and the other from 1996, and he is not willing to reveal to us which bag belong to which year.<br>\n",
    "He gives us one candy from each bag, one candy is Yellow and other is Green.<br>\n",
    "What is the probability that the Yellow candy was chosen from 1994's bag?<br>\n",
    "\n",
    "<b>Answer</b><br>\n",
    "\n",
    "To answer this question we will use 'Bayes theorem' as we learned, by using the formula: $P(A/B)=\\frac{P(B/A) \\times P(A)}{P(B)}$<br>\n",
    "\n",
    "According to the data we can concluse:<br>\n",
    "The probability to choose Yellow candy from 1994's bag is:\n",
    " $0.2 \\times 0.5=0.1$<br>\n",
    "The probability to choose Yellow candy from 1995's bag is:\n",
    " $0.14 \\times 0.5=0.07$<br>\n",
    "$P(B)$=The probability to choose Yellow candy from both bags:<br>\n",
    "$P(B)=0.1 + 0.07=0.17$<br>\n",
    "$P(A)$=The probability to choose 1994's bag:<br>\n",
    "$P(A)=0.5$<br>\n",
    "The meaning of $P(B \\cap A)$ is the case that we choose Yellow candy from 1994's bag,that is:<br>\n",
    "$P(B \\cap A)=0.5 \\times 0.2=0.1 $<br>\n",
    "\n",
    "We will use the formula as we learned:<br>\n",
    "$P(B/A)=\\frac{P(B \\cap A)}{P(A)}$<br>\n",
    "We will put the data we already have:<br>\n",
    "$P(B/A)=\\frac{0.1}{0.5}=0.2$<br>\n",
    "\n",
    "back to the formula:$P(A/B)=\\frac{P(B/A) \\times P(A)}{P(B)}=\\frac{0.2 \\times 0.5} {0.17}=0.5882=\\frac{10}{17}$<br>\n",
    "\n",
    "<b>The probability that we choose from the 1994's bag, in given case that we chose yellow candy is:$\\frac{10}{17}$<b>\n"
   ]
  },
  {
   "cell_type": "markdown",
   "metadata": {},
   "source": [
    "# <b>Q.N.3</b>"
   ]
  },
  {
   "cell_type": "markdown",
   "metadata": {},
   "source": [
    "<b>S.N.1</b><br>\n",
    "I went to the doctor because of ingrown toenail.<br>\n",
    "The doctor chose randomly to take blood test that check swine flu.<br>\n",
    "It is known statistically that this virus hits one in a 10,000 people in the population.<br>\n",
    "The test is 99% accurate in the sense that the probability of FALSE POSITIVE is 1%.<br>\n",
    "The probability of incorrect classification of health person as sick person is 1% of the cases.<br>\n",
    "The probability of FALSE NEGATIVE is 0-there is no situation the test say on sick person that he is healthy.<br>\n",
    "I came out positive in the test.<br>\n",
    "\n",
    "what is the probability I have swine flu?<br>\n",
    "\n",
    "<b>Answer-S.N.1</b><br>\n",
    "\n",
    "To answer this question we will use 'Bayes theorem' as we learned, by using the formula: $P(A/B)=\\frac{P(B/A) \\times P(A)}{P(B)}$<br>\n",
    "\n",
    "If we compare it to our question we can write:<br>\n",
    "$P(sick/positive)=\\frac{P(positive/sick) \\times P(sick)}{P(positive)}$\n",
    "\n",
    "According to the data we can concluse:<br>\n",
    "\n",
    "$P(sick)$=The probability that i'm sick: $\\frac{1}{10,000}$<br>\n",
    "$P(positive/sick)$=The probability that the test is positive in given case that i'm sick:$1$<br>\n",
    "(because  it's written that The probability of FALSE NEGATIVE is 0-there is no situation the test say on sick person that he is healthy.) <br>\n",
    "\n",
    "Now,the only thing that missing is $P(positive)$.\n",
    "The way to calculate $P(positive)$ is:<br>\n",
    "$P(positive)=(P(sick) \\times P(positive/sick)) + (P(healthy) \\times P(positive/healthy))$<br>\n",
    "\n",
    "While we already know by our data that:<br>\n",
    "$P(healthy)$=The probability that i'm healthy:$\\frac{9999}{10,000}$<br>\n",
    "$P(positive/healthy)$=The probability that the test is positive in given case that i'm healty:$\\frac{1}{100}$<br>\n",
    "(And $P(sick)$ , $P(positive/sick)$ we already wrote above)<br>\n",
    "\n",
    "We'll put our data:<br>\n",
    "\n",
    "$P(positive)=(\\frac{1}{10,000} \\times 1 )+ (\\frac{9999}{10,000} \\times \\frac{1}{100}) = 0.010099$<br>\n",
    "\n",
    "Now we put again the missing value in the first formula of Bayes:<br>\n",
    "$P(sick/positive)=\\frac{P(positive/sick) \\times P(sick)}{P(positive)}$<br>\n",
    "With placing the data:<br>\n",
    "$P(sick/positive)=\\frac{1 \\times \\frac{1}{10,000}}{0.010099}=9.9019 \\times 10^{-3}=0.0099$<br>\n",
    "\n",
    "\n",
    "<b>The probability I have swine flu is: $0.0099$</b>\n",
    " \n",
    "<b>S.N.2</b><br>\n",
    "Suppose that i came back from Thailand, and i know that 1 in a 200 people recently came back from Thailand, have swine flu.<br>\n",
    "In given same situation as section number 1, what is the (fixed) probability I have swine flu?<br>\n",
    "\n",
    "<b>Answer-S.N.2</b><br>\n",
    "\n",
    "Same as before, to answer this question we will use 'Bayes theorem' as we learned, by using the formula: $P(A/B)=\\frac{P(B/A) \\times P(A)}{P(B)}$<br>\n",
    "\n",
    "If we compare it to our question we can write:<br>\n",
    "$P(sick/positive)=\\frac{P(positive/sick) \\times P(sick)}{P(positive)}$<br>\n",
    "\n",
    "According to the data we can concluse:(almost same as before)<br>\n",
    "\n",
    "$P(sick)$=The probability that i came back from Thailand and sick: $\\frac{1}{200}$<br>\n",
    "$P(positive/sick)$=The probability that the test is positive in given case that i'm sick:$1$<br>\n",
    "(still the same,because  it's written that The probability of FALSE NEGATIVE is 0-there is no situation the test say on sick person that he is healthy.) <br>\n",
    "\n",
    "Now,the only thing that missing is $P(positive)$.\n",
    "The way to calculate $P(positive)$ is:<br>\n",
    "$P(positive)=(P(sick) \\times P(positive/sick)) + (P(healthy) \\times P(positive/healthy))$<br>\n",
    "\n",
    "While we already know by our data that:<br>\n",
    "$P(healthy)$=The probability that i came back from Thailand and healthy:$\\frac{199}{200}$<br>\n",
    "$P(positive/healthy)$=The probability that the test is positive in given case that i'm healty:$\\frac{1}{100}$ (still the same)<br>\n",
    "(And $P(sick)$ , $P(positive/sick)$ we already wrote above)<br>\n",
    "\n",
    "We'll put our data:<br>\n",
    "\n",
    "$P(positive)=(\\frac{1}{200} \\times 1) + (\\frac{199}{200} \\times \\frac{1}{100}) = \\frac{299}{20000}=0.01495$\n",
    "\n",
    "Now we put again the missing value in the first formula of Bayes:<br>\n",
    "$P(sick/positive)=\\frac{P(positive/sick) \\times P(sick)}{P(positive)}$<br>\n",
    "With placing the data:<br>\n",
    "$P(sick/positive)=\\frac{1 \\times \\frac{1}{200}}{0.01495}=\\frac{100}{299}=0.33444$<br>\n",
    "\n",
    "\n",
    "<b>The probability I have swine flu after I came back from Thailand is: $0.33444$<b>\n"
   ]
  },
  {
   "cell_type": "markdown",
   "metadata": {},
   "source": [
    "# <b>Random Variables:</b>\n",
    "# <b>Q.N.1</b>\n"
   ]
  },
  {
   "cell_type": "markdown",
   "metadata": {},
   "source": [
    "Roi is playing a dice game with Yael.<br>\n",
    "Roi will roll 2 six-sided dice, and if the sum of the dice is divisible by 3, he will win 6 dollars.<br>\n",
    "If the sum is not divisible by 3, he will lose 3 dollars.<br>\n",
    "What is Roi’s Expected Value of playing this game?<br>\n",
    "\n",
    "<b>Answer-Q.N.1</b><br>\n",
    "\n",
    "To answer this quastion we will use the formula of Expected Value:<br>\n",
    "$E(X)= \\sum {x \\times P(X=x)}$<br>\n",
    "(When $x$ represent the outcome-in our case it will be the winnig value in dollars, and $P(X=x)$ represent the probability to get this winning value). \n",
    "\n",
    "Expected Value Roi to win:$6 \\times \\frac{12}{36}$<br>\n",
    "Expected Value Roi to loose:$-3 \\times \\frac{24}{36}$<br>\n",
    "\n",
    "final Roi's Expected Value of playing this game:<br>\n",
    "\n",
    "$(6 \\times \\frac{12}{36}) +(-3 \\times \\frac{24}{36})=0$\n",
    "\n",
    "(Means that we are expecting neither gain or loose in this game.) \n",
    "\n",
    "\n",
    "\n",
    "\n",
    "\n"
   ]
  },
  {
   "cell_type": "markdown",
   "metadata": {},
   "source": [
    "# <b>Q.N.2</b>\n"
   ]
  },
  {
   "cell_type": "markdown",
   "metadata": {},
   "source": [
    "Sharon has challenged Alex to a round of Marker Mixup.<br>\n",
    "Marker Mixup is a game where there is a bag of 5 red markers numbered 1 through 5, and another bag with 5 green\n",
    "markers numbered 6 through 10.<br>\n",
    "Alex will grab 1 marker from each bag, and if the 2 markers add up to more than 12, he will\n",
    "win 5 dollars.<br>\n",
    "If the sum is exactly 12, he will break even, and If the sum is less than 12, he will\n",
    "lose 6 dollars.<br>\n",
    "What is Alex's expected value of playing Marker Mixup?<br>\n",
    "\n",
    "<b>Answer-Q.N.2</b><br>\n",
    "\n",
    "To answer this quastion we will use the formula of Expected Value:<br>\n",
    "$E(X)= \\sum x \\times P(X=x)$<br>\n",
    "(When $x$ represent the winnig value in dollars, and $P(X=x)$ represent the probability to get this winning value).<br> \n",
    "Expected Value Roi to win:$5 \\times \\frac{6}{25}$<br>\n",
    "Expected Value Roi to even:$0 \\times \\frac{4}{25}$<br>\n",
    "Expected Value Roi to loose:$-6 \\times \\frac{15}{25}$<br>\n",
    "\n",
    "final Alex's Expected Value of playing Marker Mixup:<br>\n",
    "\n",
    "$(5 \\times \\frac{6}{25}) + (-6 \\times \\frac{15}{25})=-\\frac{12}{5}=-2.4$\n",
    "\n",
    "<b>Alex's Expected Value of playing Marker Mixup:$-2.4$ <b>\n"
   ]
  },
  {
   "cell_type": "markdown",
   "metadata": {},
   "source": [
    "# <b>Q.N.3</b>\n"
   ]
  },
  {
   "cell_type": "markdown",
   "metadata": {},
   "source": [
    "A division of a company has $200$ employees, $40% $of which are male.<br>\n",
    "Each month,the company randomly selects $8$ of these employees to have lunch with the CEO.<br>\n",
    "What are the mean and standard deviation of the number of males selected each month?<br>\n",
    "\n",
    "<b>Answer-Q.N.7</b><br>\n",
    "\n",
    "First of all ,$40$ % from $200$ employees equal to $80$ employees.<br>\n",
    "Now I'll show my solution: <br>\n",
    "\n",
    "If we choose $8$ employees, the mean of the number of the males selected each month will be:<br>\n",
    "$\\frac {8 \\times 40}{100}=3.2$ \n",
    "\n",
    "If we choose $8$ employees, to computes the standart deviation of the number of the males selected each month we will use the formola of sample proportion:<br>\n",
    "\n",
    "$\\sigma_{p}= \\sqrt {\\frac{P(1-P)}{n}}$<br>\n",
    "(When P represent the population proportion, and n represent the number of emloyees have been chosen(the sample size)).\n",
    "\n",
    "We insert our data:<br>\n",
    "\n",
    "$\\sigma_{p}= \\sqrt {\\frac{0.4(1-0.4)}{8}}=\\frac{\\sqrt 3}{10}= 0.17320 $<br>\n",
    "\n",
    "\n",
    "\n",
    "<b>The mean of the number of males selected each month is: $\\mu=3.2$<b><br>\n",
    "\n",
    "<b>The standard deviation of the number of males selected each month is: $\\sigma=\\frac{\\sqrt 3}{10}= 0.17320$<b>\n"
   ]
  },
  {
   "cell_type": "markdown",
   "metadata": {},
   "source": [
    "# <b>Q.N.4</b>\n"
   ]
  },
  {
   "cell_type": "markdown",
   "metadata": {},
   "source": [
    "Different dealers may sell the same car for different prices.<br> \n",
    "The sale prices for a particular car are normally distributed with a mean and standard deviation of 26,000 dollars and 2,000 dollars,\n",
    "respectively.<br> \n",
    "Suppose we select one of these cars at random.<br>\n",
    "Let X = the sale price (in thousands of dollars) for the selected car.<br>\n",
    "Find P(26<X<30). <br>\n",
    "\n",
    "<b>Answer-Q.N.4</b><br>\n",
    "\n",
    "According to the data we can concluse:<br>\n",
    "Mean($\\mu$) = 26,000 dollars<br>\n",
    "Standard Deviation ($\\sigma$) = 2,000 dollars<br>\n",
    "\n",
    "we will use the formula:<br>\n",
    "$Z_{score}= \\frac{X- \\mu }{\\sigma}$\n",
    "\n",
    "$P(26,000<X<30,000)=P(X<30,000)-P(x<26,000)=P(Z<\\frac{30,000-\\mu}{\\sigma})-P(Z<\\frac{26,000-\\mu}{\\sigma})=$ <br>\n",
    "$P(Z<\\frac{30,000-26,000}{2,000})-P(Z<\\frac{26,000-26,000}{2,000})=P(Z<2)-P(Z<0)$ <br>\n",
    "The appropriate values according to the Z-table** are:<br>\n",
    "$0.4772-0=0.4772$\n",
    "\n",
    "<b>$P(26<X<30)=0.4772$<b>\n",
    "\n",
    "**link to the Z-table:\n",
    "https://www.statisticshowto.com/tables/z-table/"
   ]
  },
  {
   "cell_type": "markdown",
   "metadata": {},
   "source": [
    "# <b>Q.N.5</b>\n"
   ]
  },
  {
   "cell_type": "markdown",
   "metadata": {},
   "source": [
    "Given the following distribution (according to the graph given in the file), what is P(x>3)?<br>\n",
    "\n",
    "<b>Answer-Q.N.5</b><br>\n",
    "\n",
    "We will compute the area of the triangle (because the graph is linear and not as question before) , starting from the value of X>3:\n",
    "\n",
    "$\\frac{0.4 \\times (5-3)}{2}=0.4$\n",
    "\n",
    "<b>$P(x>3)=0.4$ <b>"
   ]
  },
  {
   "cell_type": "markdown",
   "metadata": {},
   "source": [
    "# <b>Q.N.6</b>\n"
   ]
  },
  {
   "cell_type": "markdown",
   "metadata": {},
   "source": [
    "A company has 500 employees, and 60% of them have children. Suppose that we randomly\n",
    "select 4 of these employees.<br>\n",
    "What is the probability that exactly 3 of the 4 employees selected have children?<br>\n",
    "\n",
    "<b>Answer-Q.N.6</b><br>\n",
    "\n",
    "First of all ,$60$ % from 500 employees equal to 300 employees.<br>\n",
    "Now I'll show my solution: <br>\n",
    "The probability to choose first person with children: $\\frac{300}{500}$<br>\n",
    "The probability to choose seconed person with children: $\\frac{299}{499}$<br>\n",
    "The probability to choose third person with children: $\\frac{298}{498}$<br>\n",
    "The probability to choose forth person without children: $\\frac{200}{497}$<br>\n",
    "\n",
    "Because we choose randomly the employees, the one without children can be the first/ the seconed/ the third/the forth. <br>\n",
    "Therefore there are 4 options- and they are equal to the first option we have already show above, because its a multiplication (so the order doesn't matter). <br>\n",
    "Therefore we can write:<br>\n",
    "\n",
    "$\\frac{300}{500} \\times \\frac{299}{499} \\times \\frac{298}{498} \\times \\frac{200}{497}=0.08657$ (for one option)<br>\n",
    "$0.08657 \\times 4=0.34629$ (for all options)<br>\n",
    "\n",
    "<b>The probability that exactly 3 of the 4 employees selected have children is: $0.34629$<b>"
   ]
  },
  {
   "cell_type": "markdown",
   "metadata": {},
   "source": [
    "# <b>Q.N.7</b>\n"
   ]
  },
  {
   "cell_type": "markdown",
   "metadata": {},
   "source": [
    "Look at the next Graph (given in the file). What is the expected value of X?<br>\n",
    "\n",
    "<b>Answer-Q.N.7</b><br>\n",
    "\n",
    "To answer this quastion we will use the formula of Expected Value:<br>\n",
    "\n",
    "$E(X)= \\sum x \\times P(X=x)$<br>\n",
    "\n",
    "Now, we will compute the value (for each bar in the graph):<br>\n",
    "\n",
    "$E(x)= (-10 \\times 0.1) + (-5 \\times 0.35) + (0 \\times 0.1) + (5 \\times 0.35) + (10 \\times 0.1)= (-1) + (-1.75) + 0 + 1.75 + 1=0 $<br>\n",
    "\n",
    "<b>The expected value of X is: $0$<b>"
   ]
  }
 ],
 "metadata": {
  "kernelspec": {
   "display_name": "Python 3",
   "language": "python",
   "name": "python3"
  },
  "language_info": {
   "codemirror_mode": {
    "name": "ipython",
    "version": 3
   },
   "file_extension": ".py",
   "mimetype": "text/x-python",
   "name": "python",
   "nbconvert_exporter": "python",
   "pygments_lexer": "ipython3",
   "version": "3.8.3"
  }
 },
 "nbformat": 4,
 "nbformat_minor": 4
}
