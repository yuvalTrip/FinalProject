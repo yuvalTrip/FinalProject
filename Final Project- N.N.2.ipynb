{
 "cells": [
  {
   "cell_type": "markdown",
   "metadata": {},
   "source": [
    "\n",
    "# <b>Programming exercises</b>"
   ]
  },
  {
   "cell_type": "markdown",
   "metadata": {},
   "source": [
    "# <b>Q.N.1</b>"
   ]
  },
  {
   "cell_type": "code",
   "execution_count": 62,
   "metadata": {},
   "outputs": [],
   "source": [
    "def convert(a):\n",
    "    number=int(a)\n",
    "    print(\"The number\", number, \"after convertion to Binary is:\", bin(number))#A command that converts decimal to binary\n",
    "    print(\"The number\", number, \"after convertion to Octal is:\", oct(number))#A command that converts decimal to octal\n",
    "    print(\"The number\", number, \"after convertion to Hexadecimal is:\", hex(number))#A command that converts decimal to Hexadecimal"
   ]
  },
  {
   "cell_type": "markdown",
   "metadata": {},
   "source": [
    "# <b>Q.N.2</b>"
   ]
  },
  {
   "cell_type": "code",
   "execution_count": 48,
   "metadata": {},
   "outputs": [
    {
     "data": {
      "text/html": [
       "<div>\n",
       "<style scoped>\n",
       "    .dataframe tbody tr th:only-of-type {\n",
       "        vertical-align: middle;\n",
       "    }\n",
       "\n",
       "    .dataframe tbody tr th {\n",
       "        vertical-align: top;\n",
       "    }\n",
       "\n",
       "    .dataframe thead th {\n",
       "        text-align: right;\n",
       "    }\n",
       "</style>\n",
       "<table border=\"1\" class=\"dataframe\">\n",
       "  <thead>\n",
       "    <tr style=\"text-align: right;\">\n",
       "      <th></th>\n",
       "      <th>title</th>\n",
       "      <th>year</th>\n",
       "      <th>name</th>\n",
       "      <th>type</th>\n",
       "      <th>character</th>\n",
       "      <th>n</th>\n",
       "    </tr>\n",
       "  </thead>\n",
       "  <tbody>\n",
       "    <tr>\n",
       "      <th>0</th>\n",
       "      <td>Suuri illusioni</td>\n",
       "      <td>1985</td>\n",
       "      <td>Homo $</td>\n",
       "      <td>actor</td>\n",
       "      <td>Guests</td>\n",
       "      <td>22.0</td>\n",
       "    </tr>\n",
       "    <tr>\n",
       "      <th>1</th>\n",
       "      <td>Gangsta Rap: The Glockumentary</td>\n",
       "      <td>2007</td>\n",
       "      <td>Too $hort</td>\n",
       "      <td>actor</td>\n",
       "      <td>Himself</td>\n",
       "      <td>NaN</td>\n",
       "    </tr>\n",
       "    <tr>\n",
       "      <th>2</th>\n",
       "      <td>Menace II Society</td>\n",
       "      <td>1993</td>\n",
       "      <td>Too $hort</td>\n",
       "      <td>actor</td>\n",
       "      <td>Lew-Loc</td>\n",
       "      <td>27.0</td>\n",
       "    </tr>\n",
       "    <tr>\n",
       "      <th>3</th>\n",
       "      <td>Porndogs: The Adventures of Sadie</td>\n",
       "      <td>2009</td>\n",
       "      <td>Too $hort</td>\n",
       "      <td>actor</td>\n",
       "      <td>Bosco</td>\n",
       "      <td>3.0</td>\n",
       "    </tr>\n",
       "    <tr>\n",
       "      <th>4</th>\n",
       "      <td>Stop Pepper Palmer</td>\n",
       "      <td>2014</td>\n",
       "      <td>Too $hort</td>\n",
       "      <td>actor</td>\n",
       "      <td>Himself</td>\n",
       "      <td>NaN</td>\n",
       "    </tr>\n",
       "    <tr>\n",
       "      <th>...</th>\n",
       "      <td>...</td>\n",
       "      <td>...</td>\n",
       "      <td>...</td>\n",
       "      <td>...</td>\n",
       "      <td>...</td>\n",
       "      <td>...</td>\n",
       "    </tr>\n",
       "    <tr>\n",
       "      <th>3333690</th>\n",
       "      <td>Stuttur Frakki</td>\n",
       "      <td>1993</td>\n",
       "      <td>Sveinbj?rg ??rhallsd?ttir</td>\n",
       "      <td>actress</td>\n",
       "      <td>Flugfreyja</td>\n",
       "      <td>24.0</td>\n",
       "    </tr>\n",
       "    <tr>\n",
       "      <th>3333691</th>\n",
       "      <td>Foxtrot</td>\n",
       "      <td>1988</td>\n",
       "      <td>Lilja ??risd?ttir</td>\n",
       "      <td>actress</td>\n",
       "      <td>D?ra</td>\n",
       "      <td>24.0</td>\n",
       "    </tr>\n",
       "    <tr>\n",
       "      <th>3333692</th>\n",
       "      <td>Niceland (Population. 1.000.002)</td>\n",
       "      <td>2004</td>\n",
       "      <td>Sigr??ur J?na ??risd?ttir</td>\n",
       "      <td>actress</td>\n",
       "      <td>Woman in Bus</td>\n",
       "      <td>26.0</td>\n",
       "    </tr>\n",
       "    <tr>\n",
       "      <th>3333693</th>\n",
       "      <td>U.S.S.S.S...</td>\n",
       "      <td>2003</td>\n",
       "      <td>Krist?n Andrea ??r?ard?ttir</td>\n",
       "      <td>actress</td>\n",
       "      <td>Afgr.dama ? bens?nst??</td>\n",
       "      <td>17.0</td>\n",
       "    </tr>\n",
       "    <tr>\n",
       "      <th>3333694</th>\n",
       "      <td>Bye Bye Blue Bird</td>\n",
       "      <td>1999</td>\n",
       "      <td>Rosa ? R?gvu</td>\n",
       "      <td>actress</td>\n",
       "      <td>Pensionatv?rtinde</td>\n",
       "      <td>NaN</td>\n",
       "    </tr>\n",
       "  </tbody>\n",
       "</table>\n",
       "<p>3333695 rows × 6 columns</p>\n",
       "</div>"
      ],
      "text/plain": [
       "                                     title  year                         name  \\\n",
       "0                          Suuri illusioni  1985                       Homo $   \n",
       "1           Gangsta Rap: The Glockumentary  2007                    Too $hort   \n",
       "2                        Menace II Society  1993                    Too $hort   \n",
       "3        Porndogs: The Adventures of Sadie  2009                    Too $hort   \n",
       "4                       Stop Pepper Palmer  2014                    Too $hort   \n",
       "...                                    ...   ...                          ...   \n",
       "3333690                     Stuttur Frakki  1993    Sveinbj?rg ??rhallsd?ttir   \n",
       "3333691                            Foxtrot  1988            Lilja ??risd?ttir   \n",
       "3333692   Niceland (Population. 1.000.002)  2004    Sigr??ur J?na ??risd?ttir   \n",
       "3333693                       U.S.S.S.S...  2003  Krist?n Andrea ??r?ard?ttir   \n",
       "3333694                  Bye Bye Blue Bird  1999                 Rosa ? R?gvu   \n",
       "\n",
       "            type               character     n  \n",
       "0          actor                  Guests  22.0  \n",
       "1          actor                 Himself   NaN  \n",
       "2          actor                 Lew-Loc  27.0  \n",
       "3          actor                   Bosco   3.0  \n",
       "4          actor                 Himself   NaN  \n",
       "...          ...                     ...   ...  \n",
       "3333690  actress              Flugfreyja  24.0  \n",
       "3333691  actress                    D?ra  24.0  \n",
       "3333692  actress            Woman in Bus  26.0  \n",
       "3333693  actress  Afgr.dama ? bens?nst??  17.0  \n",
       "3333694  actress       Pensionatv?rtinde   NaN  \n",
       "\n",
       "[3333695 rows x 6 columns]"
      ]
     },
     "execution_count": 48,
     "metadata": {},
     "output_type": "execute_result"
    }
   ],
   "source": [
    "import pandas as pd\n",
    "import matplotlib.pyplot as plt\n",
    "\n",
    "df=pd.read_csv (r\"C:\\Users\\yuval\\cast.csv\")#import DATASET to the notebook\n",
    "df"
   ]
  },
  {
   "cell_type": "markdown",
   "metadata": {},
   "source": [
    "# <b>DATASET</b>"
   ]
  },
  {
   "cell_type": "markdown",
   "metadata": {},
   "source": [
    "# <b>Q.N.1</b>"
   ]
  },
  {
   "cell_type": "code",
   "execution_count": 64,
   "metadata": {
    "scrolled": true
   },
   "outputs": [
    {
     "name": "stdout",
     "output_type": "stream",
     "text": [
      "There are 17 movies with the title 'Hamlet'.\n"
     ]
    }
   ],
   "source": [
    "All_group =df.groupby(['title', 'year'])#group all movies that have the same title and same year, to avoid duplicate count\n",
    "temp=All_group.title.value_counts()['Hamlet']#in the new tuple , count every Hamlet title that shown\n",
    "print(\"There are\",temp.shape[0],\"movies with the title 'Hamlet'.\")#count every row (we get all the years that Hamlet has been)\n"
   ]
  },
  {
   "cell_type": "markdown",
   "metadata": {},
   "source": [
    "# <b>Q.N.2</b>"
   ]
  },
  {
   "cell_type": "code",
   "execution_count": 107,
   "metadata": {},
   "outputs": [
    {
     "data": {
      "text/plain": [
       "year  title          \n",
       "1918  Treasure Island    13\n",
       "1920  Treasure Island    12\n",
       "1934  Treasure Island    55\n",
       "1950  Treasure Island    34\n",
       "1972  Treasure Island    25\n",
       "1973  Treasure Island     9\n",
       "1985  Treasure Island    15\n",
       "1999  Treasure Island    24\n",
       "Name: title, dtype: int64"
      ]
     },
     "execution_count": 107,
     "metadata": {},
     "output_type": "execute_result"
    }
   ],
   "source": [
    "All_group=df.groupby(['title', 'year'])#group all movies that have the same title and same year, to avoid duplicate count\n",
    "temp=All_group.title.value_counts()['Treasure Island']#want to see only the movie 'Treasure Island'(alredy sorted)\n",
    "#the numbers from the right side show me the number of the times 'Treasure Island' appeared in the df after we did the group by, bur we dont need it for this question. \n",
    "temp\n"
   ]
  },
  {
   "cell_type": "markdown",
   "metadata": {},
   "source": [
    "# <b>Q.N.3</b>"
   ]
  },
  {
   "cell_type": "code",
   "execution_count": 52,
   "metadata": {},
   "outputs": [
    {
     "name": "stdout",
     "output_type": "stream",
     "text": [
      "there are 9 roles were credited in the silent 1921 version of 'Hamlet'.\n"
     ]
    }
   ],
   "source": [
    "dftemp=df.query('title == \"Hamlet\" and year == \"1921\" ')#I extracts all the movies called Hamlet *and* the year of them was 1921\n",
    "print (\"there are\", dftemp.shape[0], \"roles were credited in the silent 1921 version of 'Hamlet'.\")#count the numbers of rows of the df below(every row is a different role)"
   ]
  },
  {
   "cell_type": "markdown",
   "metadata": {},
   "source": [
    "# <b>Q.N.4</b>"
   ]
  },
  {
   "cell_type": "code",
   "execution_count": 101,
   "metadata": {},
   "outputs": [
    {
     "data": {
      "image/png": "[encoded data removed]",
      "text/plain": [
       "<Figure size 432x288 with 1 Axes>"
      ]
     },
     "metadata": {
      "needs_background": "light"
     },
     "output_type": "display_data"
    }
   ],
   "source": [
    "dfHamlet=df.query('title == \"Hamlet\"')#i want to see only the Hamlet movies\n",
    "ans=dfHamlet.drop_duplicates(subset=['year']).sort_values(by=['year'])#dont want to have duplicate values from each year, inly one per year\n",
    "FinalNum=ans.groupby([ans.year//10*10]).count()#group by decades and count the values per each decades\n",
    "FinalNum.index.names = ['Decade']#change the index from year to decade \n",
    "new=FinalNum.reset_index() #by this command i put the index column as a regular column, so i can use it in the plot (because with index it doesnt work)\n",
    "new.rename(columns={'title':'Number of Hamlet films'},inplace=True)#after we use count we cam change any of the column to this name (accept decade and n)\n",
    "new.plot(x ='Decade', y='Number of Hamlet films', kind = 'bar')#plot according to the columns we want\n",
    "plt.show()\n"
   ]
  },
  {
   "cell_type": "markdown",
   "metadata": {},
   "source": [
    "# <b>Q.N.5</b>"
   ]
  },
  {
   "cell_type": "code",
   "execution_count": 61,
   "metadata": {},
   "outputs": [
    {
     "name": "stdout",
     "output_type": "stream",
     "text": [
      "In the year 1950, there are 604 leading (n=1) roles were available to actors,and 271 leading (n=1) roles were available to actresses.\n",
      "In the year 1951, there are 633 leading (n=1) roles were available to actors,and 272 leading (n=1) roles were available to actresses.\n",
      "In the year 1952, there are 591 leading (n=1) roles were available to actors,and 284 leading (n=1) roles were available to actresses.\n",
      "In the year 1953, there are 634 leading (n=1) roles were available to actors,and 290 leading (n=1) roles were available to actresses.\n",
      "In the year 1954, there are 626 leading (n=1) roles were available to actors,and 298 leading (n=1) roles were available to actresses.\n",
      "In the year 1955, there are 606 leading (n=1) roles were available to actors,and 264 leading (n=1) roles were available to actresses.\n",
      "In the year 1956, there are 614 leading (n=1) roles were available to actors,and 288 leading (n=1) roles were available to actresses.\n",
      "In the year 1957, there are 708 leading (n=1) roles were available to actors,and 284 leading (n=1) roles were available to actresses.\n",
      "In the year 1958, there are 694 leading (n=1) roles were available to actors,and 275 leading (n=1) roles were available to actresses.\n",
      "In the year 1959, there are 678 leading (n=1) roles were available to actors,and 287 leading (n=1) roles were available to actresses.\n"
     ]
    }
   ],
   "source": [
    "dfActor1950=df.query('year == 1950 and n == 1 and type==\"actor\"')#get new df of all lead role of actors in 1950\n",
    "dfActor1951=df.query('year == 1951 and n == 1 and type==\"actor\"')#get new df of all lead role of actors in 1951\n",
    "dfActor1952=df.query('year == 1952 and n == 1 and type==\"actor\"')#get new df of all lead role of actors in 1952\n",
    "dfActor1953=df.query('year == 1953 and n == 1 and type==\"actor\"')#get new df of all lead role of actors in 1953\n",
    "dfActor1954=df.query('year == 1954 and n == 1 and type==\"actor\"')#get new df of all lead role of actors in 1954\n",
    "dfActor1955=df.query('year == 1955 and n == 1 and type==\"actor\"')#get new df of all lead role of actors in 1955\n",
    "dfActor1956=df.query('year == 1956 and n == 1 and type==\"actor\"')#get new df of all lead role of actors in 1956\n",
    "dfActor1957=df.query('year == 1957 and n == 1 and type==\"actor\"')#get new df of all lead role of actors in 1957\n",
    "dfActor1958=df.query('year == 1958 and n == 1 and type==\"actor\"')#get new df of all lead role of actors in 1958\n",
    "dfActor1959=df.query('year == 1959 and n == 1 and type==\"actor\"')#get new df of all lead role of actors in 1959\n",
    "\n",
    "dfActress1950=df.query('year == 1950 and n == 1 and type==\"actress\"')#get new df of all lead role of actress in 1950\n",
    "dfActress1951=df.query('year == 1951 and n == 1 and type==\"actress\"')#get new df of all lead role of actress in 1951\n",
    "dfActress1952=df.query('year == 1952 and n == 1 and type==\"actress\"')#get new df of all lead role of actress in 1952\n",
    "dfActress1953=df.query('year == 1953 and n == 1 and type==\"actress\"')#get new df of all lead role of actress in 1953\n",
    "dfActress1954=df.query('year == 1954 and n == 1 and type==\"actress\"')#get new df of all lead role of actress in 1954\n",
    "dfActress1955=df.query('year == 1955 and n == 1 and type==\"actress\"')#get new df of all lead role of actress in 1955\n",
    "dfActress1956=df.query('year == 1956 and n == 1 and type==\"actress\"')#get new df of all lead role of actress in 1956\n",
    "dfActress1957=df.query('year == 1957 and n == 1 and type==\"actress\"')#get new df of all lead role of actress in 1957\n",
    "dfActress1958=df.query('year == 1958 and n == 1 and type==\"actress\"')#get new df of all lead role of actress in 1958\n",
    "dfActress1959=df.query('year == 1959 and n == 1 and type==\"actress\"')#get new df of all lead role of actress in 1959\n",
    "\n",
    "#now, for each df we will take the number of the rows,because each row will be different lead role (according to the year and the gender we wrote)\n",
    "\n",
    "print (\"In the year 1950, there are\", dfActor1950.shape[0],\"leading (n=1) roles were available to actors,and\",dfActress1950.shape[0],\"leading (n=1) roles were available to actresses.\")\n",
    "print (\"In the year 1951, there are\", dfActor1951.shape[0],\"leading (n=1) roles were available to actors,and\",dfActress1951.shape[0],\"leading (n=1) roles were available to actresses.\")\n",
    "print (\"In the year 1952, there are\", dfActor1952.shape[0],\"leading (n=1) roles were available to actors,and\",dfActress1952.shape[0],\"leading (n=1) roles were available to actresses.\")\n",
    "print (\"In the year 1953, there are\", dfActor1953.shape[0],\"leading (n=1) roles were available to actors,and\",dfActress1953.shape[0],\"leading (n=1) roles were available to actresses.\")\n",
    "print (\"In the year 1954, there are\", dfActor1954.shape[0],\"leading (n=1) roles were available to actors,and\",dfActress1954.shape[0],\"leading (n=1) roles were available to actresses.\")\n",
    "print (\"In the year 1955, there are\", dfActor1955.shape[0],\"leading (n=1) roles were available to actors,and\",dfActress1955.shape[0],\"leading (n=1) roles were available to actresses.\")\n",
    "print (\"In the year 1956, there are\", dfActor1956.shape[0],\"leading (n=1) roles were available to actors,and\",dfActress1956.shape[0],\"leading (n=1) roles were available to actresses.\")\n",
    "print (\"In the year 1957, there are\", dfActor1957.shape[0],\"leading (n=1) roles were available to actors,and\",dfActress1957.shape[0],\"leading (n=1) roles were available to actresses.\")\n",
    "print (\"In the year 1958, there are\", dfActor1958.shape[0],\"leading (n=1) roles were available to actors,and\",dfActress1958.shape[0],\"leading (n=1) roles were available to actresses.\")\n",
    "print (\"In the year 1959, there are\", dfActor1959.shape[0],\"leading (n=1) roles were available to actors,and\",dfActress1959.shape[0],\"leading (n=1) roles were available to actresses.\")\n"
   ]
  },
  {
   "cell_type": "markdown",
   "metadata": {},
   "source": [
    "# <b>Q.N.6</b>"
   ]
  },
  {
   "cell_type": "code",
   "execution_count": 79,
   "metadata": {},
   "outputs": [
    {
     "name": "stdout",
     "output_type": "stream",
     "text": [
      "10 actors/actresses that have the most leading roles (n=1) since the 1990's are:\n"
     ]
    },
    {
     "data": {
      "text/plain": [
       "name\n",
       "Mohanlal              126\n",
       "Mammootty             118\n",
       "Akshay Kumar           87\n",
       "Jayaram                76\n",
       "Andy Lau               72\n",
       "Ajay Devgn             69\n",
       "Eric Roberts           68\n",
       "Amitabh Bachchan       68\n",
       "Nagarjuna Akkineni     60\n",
       "Dilip                  59\n",
       "dtype: int64"
      ]
     },
     "execution_count": 79,
     "metadata": {},
     "output_type": "execute_result"
    }
   ],
   "source": [
    "dftemp=df.query('n == 1 and year >= 1990 ')#get new df of all lead role in years 1990 and after\n",
    "new=dftemp.groupby('name').size()#get row counts per each group of name,by calling .size(), which returns a Series\n",
    "FinalAns=new.sort_values(ascending=False) #Sort values by descending order\n",
    "print(\"10 actors/actresses that have the most leading roles (n=1) since the 1990's are:\")\n",
    "FinalAns.head(10)#print the first 10 actors with the most leading roles \n"
   ]
  },
  {
   "cell_type": "markdown",
   "metadata": {},
   "source": [
    "# <b>Q.N.7</b>"
   ]
  },
  {
   "cell_type": "code",
   "execution_count": 123,
   "metadata": {},
   "outputs": [
    {
     "data": {
      "text/html": [
       "<div>\n",
       "<style scoped>\n",
       "    .dataframe tbody tr th:only-of-type {\n",
       "        vertical-align: middle;\n",
       "    }\n",
       "\n",
       "    .dataframe tbody tr th {\n",
       "        vertical-align: top;\n",
       "    }\n",
       "\n",
       "    .dataframe thead th {\n",
       "        text-align: right;\n",
       "    }\n",
       "</style>\n",
       "<table border=\"1\" class=\"dataframe\">\n",
       "  <thead>\n",
       "    <tr style=\"text-align: right;\">\n",
       "      <th></th>\n",
       "      <th></th>\n",
       "      <th>name</th>\n",
       "      <th>type</th>\n",
       "      <th>character</th>\n",
       "      <th>n</th>\n",
       "    </tr>\n",
       "    <tr>\n",
       "      <th>title</th>\n",
       "      <th>year</th>\n",
       "      <th></th>\n",
       "      <th></th>\n",
       "      <th></th>\n",
       "      <th></th>\n",
       "    </tr>\n",
       "  </thead>\n",
       "  <tbody>\n",
       "    <tr>\n",
       "      <th>The Muppet Movie</th>\n",
       "      <th>1979</th>\n",
       "      <td>8</td>\n",
       "      <td>8</td>\n",
       "      <td>8</td>\n",
       "      <td>8</td>\n",
       "    </tr>\n",
       "    <tr>\n",
       "      <th>An American Werewolf in London</th>\n",
       "      <th>1981</th>\n",
       "      <td>2</td>\n",
       "      <td>2</td>\n",
       "      <td>2</td>\n",
       "      <td>2</td>\n",
       "    </tr>\n",
       "    <tr>\n",
       "      <th>The Great Muppet Caper</th>\n",
       "      <th>1981</th>\n",
       "      <td>6</td>\n",
       "      <td>6</td>\n",
       "      <td>6</td>\n",
       "      <td>6</td>\n",
       "    </tr>\n",
       "    <tr>\n",
       "      <th>The Dark Crystal</th>\n",
       "      <th>1982</th>\n",
       "      <td>2</td>\n",
       "      <td>2</td>\n",
       "      <td>2</td>\n",
       "      <td>2</td>\n",
       "    </tr>\n",
       "    <tr>\n",
       "      <th>The Muppets Take Manhattan</th>\n",
       "      <th>1984</th>\n",
       "      <td>7</td>\n",
       "      <td>7</td>\n",
       "      <td>7</td>\n",
       "      <td>7</td>\n",
       "    </tr>\n",
       "    <tr>\n",
       "      <th>Sesame Street Presents: Follow that Bird</th>\n",
       "      <th>1985</th>\n",
       "      <td>3</td>\n",
       "      <td>3</td>\n",
       "      <td>3</td>\n",
       "      <td>3</td>\n",
       "    </tr>\n",
       "    <tr>\n",
       "      <th>The Muppet Christmas Carol</th>\n",
       "      <th>1992</th>\n",
       "      <td>7</td>\n",
       "      <td>7</td>\n",
       "      <td>7</td>\n",
       "      <td>7</td>\n",
       "    </tr>\n",
       "    <tr>\n",
       "      <th>Muppet Treasure Island</th>\n",
       "      <th>1996</th>\n",
       "      <td>4</td>\n",
       "      <td>4</td>\n",
       "      <td>4</td>\n",
       "      <td>4</td>\n",
       "    </tr>\n",
       "    <tr>\n",
       "      <th>Muppets from Space</th>\n",
       "      <th>1999</th>\n",
       "      <td>4</td>\n",
       "      <td>4</td>\n",
       "      <td>4</td>\n",
       "      <td>4</td>\n",
       "    </tr>\n",
       "    <tr>\n",
       "      <th>The Adventures of Elmo in Grouchland</th>\n",
       "      <th>1999</th>\n",
       "      <td>3</td>\n",
       "      <td>3</td>\n",
       "      <td>3</td>\n",
       "      <td>3</td>\n",
       "    </tr>\n",
       "  </tbody>\n",
       "</table>\n",
       "</div>"
      ],
      "text/plain": [
       "                                               name  type  character  n\n",
       "title                                    year                          \n",
       "The Muppet Movie                         1979     8     8          8  8\n",
       "An American Werewolf in London           1981     2     2          2  2\n",
       "The Great Muppet Caper                   1981     6     6          6  6\n",
       "The Dark Crystal                         1982     2     2          2  2\n",
       "The Muppets Take Manhattan               1984     7     7          7  7\n",
       "Sesame Street Presents: Follow that Bird 1985     3     3          3  3\n",
       "The Muppet Christmas Carol               1992     7     7          7  7\n",
       "Muppet Treasure Island                   1996     4     4          4  4\n",
       "Muppets from Space                       1999     4     4          4  4\n",
       "The Adventures of Elmo in Grouchland     1999     3     3          3  3"
      ]
     },
     "execution_count": 123,
     "metadata": {},
     "output_type": "execute_result"
    }
   ],
   "source": [
    "dftemp=df.query('name==\"Frank Oz\" ')#get new df of all actor/actress called Frank Oz\n",
    "groupAns=dftemp.groupby(['title', 'year']).count()#we group all movies with same year and title *and count them* so its ok \n",
    "#(count show me the number of non-NA elements in a Series)\n",
    "Ans=groupAns.sort_index(level=1)#sort specific index level(in this case- by year) \n",
    "Ans[Ans['name'] > 1]#we want to see the films Frank Oz has played more than 1 role\n"
   ]
  }
 ],
 "metadata": {
  "kernelspec": {
   "display_name": "Python 3",
   "language": "python",
   "name": "python3"
  },
  "language_info": {
   "codemirror_mode": {
    "name": "ipython",
    "version": 3
   },
   "file_extension": ".py",
   "mimetype": "text/x-python",
   "name": "python",
   "nbconvert_exporter": "python",
   "pygments_lexer": "ipython3",
   "version": "3.8.3"
  }
 },
 "nbformat": 4,
 "nbformat_minor": 4
}
