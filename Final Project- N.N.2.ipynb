{
 "cells": [
  {
   "cell_type": "markdown",
   "metadata": {},
   "source": [
    "# Final project-N.N.2"
   ]
  },
  {
   "cell_type": "markdown",
   "metadata": {},
   "source": [
    "Q.N.1-כתוב תוכנית בשפת פייתון אשר מקבלת מספר בבסיס 10 ומדפיסה את המספר בכל הבסיסים\n",
    "האחרים )בסיס 2 ,בסיס 8 ובסיס 16 "
   ]
  },
  {
   "cell_type": "code",
   "execution_count": 3,
   "metadata": {},
   "outputs": [],
   "source": [
    "def plus(a,b):\n",
    "  return a + b"
   ]
  },
  {
   "cell_type": "code",
   "execution_count": 4,
   "metadata": {},
   "outputs": [],
   "source": [
    "def hello():\n",
    "  print(\"Hello World\") \n",
    "  return "
   ]
  },
  {
   "cell_type": "code",
   "execution_count": 8,
   "metadata": {},
   "outputs": [],
   "source": [
    "def differentBase (num,base):\n",
    "    ans=0;\n",
    "    while (num!=0):\n",
    "        ans==num%2;\n",
    "        DifB = ans, DifB;\n",
    "        num=math.floor(ans/2 )\n",
    "    print (DifB)"
   ]
  },
  {
   "cell_type": "code",
   "execution_count": 9,
   "metadata": {},
   "outputs": [
    {
     "name": "stdout",
     "output_type": "stream",
     "text": [
      "2.5\n"
     ]
    }
   ],
   "source": [
    "print (5/2)"
   ]
  },
  {
   "cell_type": "code",
   "execution_count": 9,
   "metadata": {},
   "outputs": [
    {
     "ename": "UnboundLocalError",
     "evalue": "local variable 'DifB' referenced before assignment",
     "output_type": "error",
     "traceback": [
      "\u001b[1;31m---------------------------------------------------------------------------\u001b[0m",
      "\u001b[1;31mUnboundLocalError\u001b[0m                         Traceback (most recent call last)",
      "\u001b[1;32m<ipython-input-9-5b8c44a52731>\u001b[0m in \u001b[0;36m<module>\u001b[1;34m\u001b[0m\n\u001b[1;32m----> 1\u001b[1;33m \u001b[0mdifferentBase\u001b[0m\u001b[1;33m(\u001b[0m\u001b[1;36m6\u001b[0m\u001b[1;33m,\u001b[0m\u001b[1;36m2\u001b[0m\u001b[1;33m)\u001b[0m\u001b[1;33m\u001b[0m\u001b[1;33m\u001b[0m\u001b[0m\n\u001b[0m",
      "\u001b[1;32m<ipython-input-8-dfd09211742a>\u001b[0m in \u001b[0;36mdifferentBase\u001b[1;34m(num, base)\u001b[0m\n\u001b[0;32m      3\u001b[0m     \u001b[1;32mwhile\u001b[0m \u001b[1;33m(\u001b[0m\u001b[0mnum\u001b[0m\u001b[1;33m!=\u001b[0m\u001b[1;36m0\u001b[0m\u001b[1;33m)\u001b[0m\u001b[1;33m:\u001b[0m\u001b[1;33m\u001b[0m\u001b[1;33m\u001b[0m\u001b[0m\n\u001b[0;32m      4\u001b[0m         \u001b[0mans\u001b[0m\u001b[1;33m==\u001b[0m\u001b[0mnum\u001b[0m\u001b[1;33m%\u001b[0m\u001b[1;36m2\u001b[0m\u001b[1;33m;\u001b[0m\u001b[1;33m\u001b[0m\u001b[1;33m\u001b[0m\u001b[0m\n\u001b[1;32m----> 5\u001b[1;33m         \u001b[0mDifB\u001b[0m \u001b[1;33m=\u001b[0m \u001b[0mans\u001b[0m\u001b[1;33m,\u001b[0m \u001b[0mDifB\u001b[0m\u001b[1;33m;\u001b[0m\u001b[1;33m\u001b[0m\u001b[1;33m\u001b[0m\u001b[0m\n\u001b[0m\u001b[0;32m      6\u001b[0m         \u001b[0mnum\u001b[0m\u001b[1;33m=\u001b[0m\u001b[0mmath\u001b[0m\u001b[1;33m.\u001b[0m\u001b[0mfloor\u001b[0m\u001b[1;33m(\u001b[0m\u001b[0mans\u001b[0m\u001b[1;33m/\u001b[0m\u001b[1;36m2\u001b[0m \u001b[1;33m)\u001b[0m\u001b[1;33m\u001b[0m\u001b[1;33m\u001b[0m\u001b[0m\n\u001b[0;32m      7\u001b[0m     \u001b[0mprint\u001b[0m \u001b[1;33m(\u001b[0m\u001b[0mDifB\u001b[0m\u001b[1;33m)\u001b[0m\u001b[1;33m\u001b[0m\u001b[1;33m\u001b[0m\u001b[0m\n",
      "\u001b[1;31mUnboundLocalError\u001b[0m: local variable 'DifB' referenced before assignment"
     ]
    }
   ],
   "source": [
    "differentBase(6,2)"
   ]
  },
  {
   "cell_type": "code",
   "execution_count": 10,
   "metadata": {},
   "outputs": [
    {
     "ename": "IndentationError",
     "evalue": "unexpected indent (<ipython-input-10-9eb2f2ef0141>, line 4)",
     "output_type": "error",
     "traceback": [
      "\u001b[1;36m  File \u001b[1;32m\"<ipython-input-10-9eb2f2ef0141>\"\u001b[1;36m, line \u001b[1;32m4\u001b[0m\n\u001b[1;33m    DifB = DifB,binaryAns ;\u001b[0m\n\u001b[1;37m    ^\u001b[0m\n\u001b[1;31mIndentationError\u001b[0m\u001b[1;31m:\u001b[0m unexpected indent\n"
     ]
    }
   ],
   "source": [
    "\n",
    "num=number;\n",
    "while (reminder>=0):\n",
    "    binaryAns==num%2;\n",
    "        DifB = DifB,binaryAns ;\n",
    "        num=math.floor(ans/2 );\n",
    "print (\"The Binary value of \", number, \"is: \",DifB)"
   ]
  },
  {
   "cell_type": "markdown",
   "metadata": {},
   "source": [
    "Q.N.2"
   ]
  },
  {
   "cell_type": "code",
   "execution_count": 1,
   "metadata": {},
   "outputs": [
    {
     "data": {
      "text/html": [
       "<div>\n",
       "<style scoped>\n",
       "    .dataframe tbody tr th:only-of-type {\n",
       "        vertical-align: middle;\n",
       "    }\n",
       "\n",
       "    .dataframe tbody tr th {\n",
       "        vertical-align: top;\n",
       "    }\n",
       "\n",
       "    .dataframe thead th {\n",
       "        text-align: right;\n",
       "    }\n",
       "</style>\n",
       "<table border=\"1\" class=\"dataframe\">\n",
       "  <thead>\n",
       "    <tr style=\"text-align: right;\">\n",
       "      <th></th>\n",
       "      <th>title</th>\n",
       "      <th>year</th>\n",
       "      <th>name</th>\n",
       "      <th>type</th>\n",
       "      <th>character</th>\n",
       "      <th>n</th>\n",
       "    </tr>\n",
       "  </thead>\n",
       "  <tbody>\n",
       "    <tr>\n",
       "      <th>0</th>\n",
       "      <td>Suuri illusioni</td>\n",
       "      <td>1985</td>\n",
       "      <td>Homo $</td>\n",
       "      <td>actor</td>\n",
       "      <td>Guests</td>\n",
       "      <td>22.0</td>\n",
       "    </tr>\n",
       "    <tr>\n",
       "      <th>1</th>\n",
       "      <td>Gangsta Rap: The Glockumentary</td>\n",
       "      <td>2007</td>\n",
       "      <td>Too $hort</td>\n",
       "      <td>actor</td>\n",
       "      <td>Himself</td>\n",
       "      <td>NaN</td>\n",
       "    </tr>\n",
       "    <tr>\n",
       "      <th>2</th>\n",
       "      <td>Menace II Society</td>\n",
       "      <td>1993</td>\n",
       "      <td>Too $hort</td>\n",
       "      <td>actor</td>\n",
       "      <td>Lew-Loc</td>\n",
       "      <td>27.0</td>\n",
       "    </tr>\n",
       "    <tr>\n",
       "      <th>3</th>\n",
       "      <td>Porndogs: The Adventures of Sadie</td>\n",
       "      <td>2009</td>\n",
       "      <td>Too $hort</td>\n",
       "      <td>actor</td>\n",
       "      <td>Bosco</td>\n",
       "      <td>3.0</td>\n",
       "    </tr>\n",
       "    <tr>\n",
       "      <th>4</th>\n",
       "      <td>Stop Pepper Palmer</td>\n",
       "      <td>2014</td>\n",
       "      <td>Too $hort</td>\n",
       "      <td>actor</td>\n",
       "      <td>Himself</td>\n",
       "      <td>NaN</td>\n",
       "    </tr>\n",
       "    <tr>\n",
       "      <th>...</th>\n",
       "      <td>...</td>\n",
       "      <td>...</td>\n",
       "      <td>...</td>\n",
       "      <td>...</td>\n",
       "      <td>...</td>\n",
       "      <td>...</td>\n",
       "    </tr>\n",
       "    <tr>\n",
       "      <th>3333690</th>\n",
       "      <td>Stuttur Frakki</td>\n",
       "      <td>1993</td>\n",
       "      <td>Sveinbj?rg ??rhallsd?ttir</td>\n",
       "      <td>actress</td>\n",
       "      <td>Flugfreyja</td>\n",
       "      <td>24.0</td>\n",
       "    </tr>\n",
       "    <tr>\n",
       "      <th>3333691</th>\n",
       "      <td>Foxtrot</td>\n",
       "      <td>1988</td>\n",
       "      <td>Lilja ??risd?ttir</td>\n",
       "      <td>actress</td>\n",
       "      <td>D?ra</td>\n",
       "      <td>24.0</td>\n",
       "    </tr>\n",
       "    <tr>\n",
       "      <th>3333692</th>\n",
       "      <td>Niceland (Population. 1.000.002)</td>\n",
       "      <td>2004</td>\n",
       "      <td>Sigr??ur J?na ??risd?ttir</td>\n",
       "      <td>actress</td>\n",
       "      <td>Woman in Bus</td>\n",
       "      <td>26.0</td>\n",
       "    </tr>\n",
       "    <tr>\n",
       "      <th>3333693</th>\n",
       "      <td>U.S.S.S.S...</td>\n",
       "      <td>2003</td>\n",
       "      <td>Krist?n Andrea ??r?ard?ttir</td>\n",
       "      <td>actress</td>\n",
       "      <td>Afgr.dama ? bens?nst??</td>\n",
       "      <td>17.0</td>\n",
       "    </tr>\n",
       "    <tr>\n",
       "      <th>3333694</th>\n",
       "      <td>Bye Bye Blue Bird</td>\n",
       "      <td>1999</td>\n",
       "      <td>Rosa ? R?gvu</td>\n",
       "      <td>actress</td>\n",
       "      <td>Pensionatv?rtinde</td>\n",
       "      <td>NaN</td>\n",
       "    </tr>\n",
       "  </tbody>\n",
       "</table>\n",
       "<p>3333695 rows × 6 columns</p>\n",
       "</div>"
      ],
      "text/plain": [
       "                                     title  year                         name  \\\n",
       "0                          Suuri illusioni  1985                       Homo $   \n",
       "1           Gangsta Rap: The Glockumentary  2007                    Too $hort   \n",
       "2                        Menace II Society  1993                    Too $hort   \n",
       "3        Porndogs: The Adventures of Sadie  2009                    Too $hort   \n",
       "4                       Stop Pepper Palmer  2014                    Too $hort   \n",
       "...                                    ...   ...                          ...   \n",
       "3333690                     Stuttur Frakki  1993    Sveinbj?rg ??rhallsd?ttir   \n",
       "3333691                            Foxtrot  1988            Lilja ??risd?ttir   \n",
       "3333692   Niceland (Population. 1.000.002)  2004    Sigr??ur J?na ??risd?ttir   \n",
       "3333693                       U.S.S.S.S...  2003  Krist?n Andrea ??r?ard?ttir   \n",
       "3333694                  Bye Bye Blue Bird  1999                 Rosa ? R?gvu   \n",
       "\n",
       "            type               character     n  \n",
       "0          actor                  Guests  22.0  \n",
       "1          actor                 Himself   NaN  \n",
       "2          actor                 Lew-Loc  27.0  \n",
       "3          actor                   Bosco   3.0  \n",
       "4          actor                 Himself   NaN  \n",
       "...          ...                     ...   ...  \n",
       "3333690  actress              Flugfreyja  24.0  \n",
       "3333691  actress                    D?ra  24.0  \n",
       "3333692  actress            Woman in Bus  26.0  \n",
       "3333693  actress  Afgr.dama ? bens?nst??  17.0  \n",
       "3333694  actress       Pensionatv?rtinde   NaN  \n",
       "\n",
       "[3333695 rows x 6 columns]"
      ]
     },
     "execution_count": 1,
     "metadata": {},
     "output_type": "execute_result"
    }
   ],
   "source": [
    "import pandas as pd\n",
    "df=pd.read_csv (r\"C:\\Users\\yuval\\cast.csv\")\n",
    "df"
   ]
  },
  {
   "cell_type": "markdown",
   "metadata": {},
   "source": [
    "section 1"
   ]
  },
  {
   "cell_type": "code",
   "execution_count": 77,
   "metadata": {
    "scrolled": true
   },
   "outputs": [
    {
     "name": "stdout",
     "output_type": "stream",
     "text": [
      "There are 17 movies with the title 'Hamlet'.\n"
     ]
    }
   ],
   "source": [
    "All_group =df.groupby(['title', 'year'])\n",
    "temp=All_group.title.value_counts()['Hamlet']\n",
    "print(\"There are\",temp.shape[0],\"movies with the title 'Hamlet'.\")\n"
   ]
  },
  {
   "cell_type": "markdown",
   "metadata": {},
   "source": [
    "section 2"
   ]
  },
  {
   "cell_type": "code",
   "execution_count": 86,
   "metadata": {},
   "outputs": [
    {
     "data": {
      "text/plain": [
       "year  title          \n",
       "1918  Treasure Island    13\n",
       "1920  Treasure Island    12\n",
       "1934  Treasure Island    55\n",
       "1950  Treasure Island    34\n",
       "1972  Treasure Island    25\n",
       "1973  Treasure Island     9\n",
       "1985  Treasure Island    15\n",
       "1999  Treasure Island    24\n",
       "Name: title, dtype: int64"
      ]
     },
     "execution_count": 86,
     "metadata": {},
     "output_type": "execute_result"
    }
   ],
   "source": [
    "All_group=df.groupby(['title', 'year'])\n",
    "temp=All_group.title.value_counts()['Treasure Island']\n",
    "temp\n",
    "\n",
    "#temp.sort_values(by=['year'])\n",
    "#newDF=All_group.get_group('Treasure Island')\n",
    "#print(newDF.sort_values(by=['year']))\n",
    "\n",
    "\n",
    "#by_year=df.groupby('title')\n",
    "#newDF=by_year.get_group('Treasure Island')\n",
    "#print(newDF.sort_values(by=['year']))\n",
    "\n",
    "#df['title']#['Treasure Island']\n",
    "#df.sort_values(by=['year'])\n"
   ]
  },
  {
   "cell_type": "markdown",
   "metadata": {},
   "source": [
    "section 3"
   ]
  },
  {
   "cell_type": "code",
   "execution_count": 45,
   "metadata": {},
   "outputs": [
    {
     "name": "stdout",
     "output_type": "stream",
     "text": [
      "there are 9 roles were credited in the silent 1921 version of 'Hamlet'.\n"
     ]
    }
   ],
   "source": [
    "dftemp=df.query('title == \"Hamlet\" and year == \"1921\" ')\n",
    "dftemp\n",
    "print (\"there are\", dftemp.shape[0], \"roles were credited in the silent 1921 version of 'Hamlet'.\")"
   ]
  },
  {
   "cell_type": "markdown",
   "metadata": {},
   "source": [
    "section 4\n"
   ]
  },
  {
   "cell_type": "code",
   "execution_count": 102,
   "metadata": {},
   "outputs": [
    {
     "data": {
      "text/plain": [
       "<pandas.core.groupby.generic.DataFrameGroupBy object at 0x000001E89F694340>"
      ]
     },
     "execution_count": 102,
     "metadata": {},
     "output_type": "execute_result"
    }
   ],
   "source": [
    "dfHamlet= df.groupby(['title']).get_group(\"Hamlet\")################4delete duplicates\n",
    "\n",
    "ByDecades=dfHamlet.groupby(['year'])\n",
    "#ByDecades.plot()\n",
    "ByDecades"
   ]
  },
  {
   "cell_type": "code",
   "execution_count": 138,
   "metadata": {},
   "outputs": [
    {
     "data": {
      "text/html": [
       "<div>\n",
       "<style scoped>\n",
       "    .dataframe tbody tr th:only-of-type {\n",
       "        vertical-align: middle;\n",
       "    }\n",
       "\n",
       "    .dataframe tbody tr th {\n",
       "        vertical-align: top;\n",
       "    }\n",
       "\n",
       "    .dataframe thead th {\n",
       "        text-align: right;\n",
       "    }\n",
       "</style>\n",
       "<table border=\"1\" class=\"dataframe\">\n",
       "  <thead>\n",
       "    <tr style=\"text-align: right;\">\n",
       "      <th></th>\n",
       "      <th>title</th>\n",
       "      <th>year</th>\n",
       "      <th>name</th>\n",
       "      <th>type</th>\n",
       "      <th>character</th>\n",
       "      <th>n</th>\n",
       "    </tr>\n",
       "    <tr>\n",
       "      <th>year</th>\n",
       "      <th></th>\n",
       "      <th></th>\n",
       "      <th></th>\n",
       "      <th></th>\n",
       "      <th></th>\n",
       "      <th></th>\n",
       "    </tr>\n",
       "  </thead>\n",
       "  <tbody>\n",
       "    <tr>\n",
       "      <th>1910</th>\n",
       "      <td>3</td>\n",
       "      <td>3</td>\n",
       "      <td>3</td>\n",
       "      <td>3</td>\n",
       "      <td>3</td>\n",
       "      <td>2</td>\n",
       "    </tr>\n",
       "    <tr>\n",
       "      <th>1920</th>\n",
       "      <td>1</td>\n",
       "      <td>1</td>\n",
       "      <td>1</td>\n",
       "      <td>1</td>\n",
       "      <td>1</td>\n",
       "      <td>1</td>\n",
       "    </tr>\n",
       "    <tr>\n",
       "      <th>1940</th>\n",
       "      <td>1</td>\n",
       "      <td>1</td>\n",
       "      <td>1</td>\n",
       "      <td>1</td>\n",
       "      <td>1</td>\n",
       "      <td>1</td>\n",
       "    </tr>\n",
       "    <tr>\n",
       "      <th>1950</th>\n",
       "      <td>1</td>\n",
       "      <td>1</td>\n",
       "      <td>1</td>\n",
       "      <td>1</td>\n",
       "      <td>1</td>\n",
       "      <td>1</td>\n",
       "    </tr>\n",
       "    <tr>\n",
       "      <th>1960</th>\n",
       "      <td>2</td>\n",
       "      <td>2</td>\n",
       "      <td>2</td>\n",
       "      <td>2</td>\n",
       "      <td>2</td>\n",
       "      <td>1</td>\n",
       "    </tr>\n",
       "    <tr>\n",
       "      <th>1970</th>\n",
       "      <td>2</td>\n",
       "      <td>2</td>\n",
       "      <td>2</td>\n",
       "      <td>2</td>\n",
       "      <td>2</td>\n",
       "      <td>1</td>\n",
       "    </tr>\n",
       "    <tr>\n",
       "      <th>1980</th>\n",
       "      <td>1</td>\n",
       "      <td>1</td>\n",
       "      <td>1</td>\n",
       "      <td>1</td>\n",
       "      <td>1</td>\n",
       "      <td>0</td>\n",
       "    </tr>\n",
       "    <tr>\n",
       "      <th>1990</th>\n",
       "      <td>2</td>\n",
       "      <td>2</td>\n",
       "      <td>2</td>\n",
       "      <td>2</td>\n",
       "      <td>2</td>\n",
       "      <td>2</td>\n",
       "    </tr>\n",
       "    <tr>\n",
       "      <th>2000</th>\n",
       "      <td>2</td>\n",
       "      <td>2</td>\n",
       "      <td>2</td>\n",
       "      <td>2</td>\n",
       "      <td>2</td>\n",
       "      <td>2</td>\n",
       "    </tr>\n",
       "    <tr>\n",
       "      <th>2010</th>\n",
       "      <td>2</td>\n",
       "      <td>2</td>\n",
       "      <td>2</td>\n",
       "      <td>2</td>\n",
       "      <td>2</td>\n",
       "      <td>1</td>\n",
       "    </tr>\n",
       "  </tbody>\n",
       "</table>\n",
       "</div>"
      ],
      "text/plain": [
       "      title  year  name  type  character  n\n",
       "year                                       \n",
       "1910      3     3     3     3          3  2\n",
       "1920      1     1     1     1          1  1\n",
       "1940      1     1     1     1          1  1\n",
       "1950      1     1     1     1          1  1\n",
       "1960      2     2     2     2          2  1\n",
       "1970      2     2     2     2          2  1\n",
       "1980      1     1     1     1          1  0\n",
       "1990      2     2     2     2          2  2\n",
       "2000      2     2     2     2          2  2\n",
       "2010      2     2     2     2          2  1"
      ]
     },
     "execution_count": 138,
     "metadata": {},
     "output_type": "execute_result"
    }
   ],
   "source": [
    "dfHamlet=df.query('title == \"Hamlet\"')\n",
    "ans=dfHamlet.drop_duplicates(subset=['year']).sort_values(by=['year'])\n",
    "#withDec=ans.insert(2, \"Decade\", [1910, 1920, 1930, 1940, 1950, 1960, 1970, 1980, 1990, 2000, 2010], True) \n",
    "#ans.plot.bar()\n",
    "#ans.plot.barh(stacked=True)\n",
    "#ans.plot(x ='Decade', y='Movies number', kind = 'bar')\n",
    "##########ans.plot(x ='year', y='Movies number', kind = 'bar')\n",
    "ans.groupby([ans.year//10*10]).count()\n",
    "#ans\n",
    "#plt.show()\n",
    "#withDec"
   ]
  },
  {
   "cell_type": "markdown",
   "metadata": {},
   "source": [
    "section 5"
   ]
  },
  {
   "cell_type": "code",
   "execution_count": 96,
   "metadata": {},
   "outputs": [
    {
     "name": "stdout",
     "output_type": "stream",
     "text": [
      "In the year 1950, there are 604 leading (n=1) roles were available to actors,and 271 leading (n=1) roles were available to actresses.\n",
      "In the year 1951, there are 633 leading (n=1) roles were available to actors,and 272 leading (n=1) roles were available to actresses.\n",
      "In the year 1952, there are 591 leading (n=1) roles were available to actors,and 284 leading (n=1) roles were available to actresses.\n",
      "In the year 1953, there are 634 leading (n=1) roles were available to actors,and 290 leading (n=1) roles were available to actresses.\n",
      "In the year 1954, there are 626 leading (n=1) roles were available to actors,and 298 leading (n=1) roles were available to actresses.\n",
      "In the year 1955, there are 606 leading (n=1) roles were available to actors,and 264 leading (n=1) roles were available to actresses.\n",
      "In the year 1956, there are 614 leading (n=1) roles were available to actors,and 288 leading (n=1) roles were available to actresses.\n",
      "In the year 1957, there are 708 leading (n=1) roles were available to actors,and 284 leading (n=1) roles were available to actresses.\n",
      "In the year 1958, there are 694 leading (n=1) roles were available to actors,and 275 leading (n=1) roles were available to actresses.\n",
      "In the year 1959, there are 678 leading (n=1) roles were available to actors,and 287 leading (n=1) roles were available to actresses.\n"
     ]
    }
   ],
   "source": [
    "dfActor1950=df.query('year == 1950 and n == 1 and type==\"actor\"')\n",
    "dfActor1951=df.query('year == 1951 and n == 1 and type==\"actor\"')\n",
    "dfActor1952=df.query('year == 1952 and n == 1 and type==\"actor\"')\n",
    "dfActor1953=df.query('year == 1953 and n == 1 and type==\"actor\"')\n",
    "dfActor1954=df.query('year == 1954 and n == 1 and type==\"actor\"')\n",
    "dfActor1955=df.query('year == 1955 and n == 1 and type==\"actor\"')\n",
    "dfActor1956=df.query('year == 1956 and n == 1 and type==\"actor\"')\n",
    "dfActor1957=df.query('year == 1957 and n == 1 and type==\"actor\"')\n",
    "dfActor1958=df.query('year == 1958 and n == 1 and type==\"actor\"')\n",
    "dfActor1959=df.query('year == 1959 and n == 1 and type==\"actor\"')\n",
    "\n",
    "dfActress1950=df.query('year == 1950 and n == 1 and type==\"actress\"')\n",
    "dfActress1951=df.query('year == 1951 and n == 1 and type==\"actress\"')\n",
    "dfActress1952=df.query('year == 1952 and n == 1 and type==\"actress\"')\n",
    "dfActress1953=df.query('year == 1953 and n == 1 and type==\"actress\"')\n",
    "dfActress1954=df.query('year == 1954 and n == 1 and type==\"actress\"')\n",
    "dfActress1955=df.query('year == 1955 and n == 1 and type==\"actress\"')\n",
    "dfActress1956=df.query('year == 1956 and n == 1 and type==\"actress\"')\n",
    "dfActress1957=df.query('year == 1957 and n == 1 and type==\"actress\"')\n",
    "dfActress1958=df.query('year == 1958 and n == 1 and type==\"actress\"')\n",
    "dfActress1959=df.query('year == 1959 and n == 1 and type==\"actress\"')\n",
    "\n",
    "print (\"In the year 1950, there are\", dfActor1950.shape[0],\"leading (n=1) roles were available to actors,and\",dfActress1950.shape[0],\"leading (n=1) roles were available to actresses.\")\n",
    "print (\"In the year 1951, there are\", dfActor1951.shape[0],\"leading (n=1) roles were available to actors,and\",dfActress1951.shape[0],\"leading (n=1) roles were available to actresses.\")\n",
    "print (\"In the year 1952, there are\", dfActor1952.shape[0],\"leading (n=1) roles were available to actors,and\",dfActress1952.shape[0],\"leading (n=1) roles were available to actresses.\")\n",
    "print (\"In the year 1953, there are\", dfActor1953.shape[0],\"leading (n=1) roles were available to actors,and\",dfActress1953.shape[0],\"leading (n=1) roles were available to actresses.\")\n",
    "print (\"In the year 1954, there are\", dfActor1954.shape[0],\"leading (n=1) roles were available to actors,and\",dfActress1954.shape[0],\"leading (n=1) roles were available to actresses.\")\n",
    "print (\"In the year 1955, there are\", dfActor1955.shape[0],\"leading (n=1) roles were available to actors,and\",dfActress1955.shape[0],\"leading (n=1) roles were available to actresses.\")\n",
    "print (\"In the year 1956, there are\", dfActor1956.shape[0],\"leading (n=1) roles were available to actors,and\",dfActress1956.shape[0],\"leading (n=1) roles were available to actresses.\")\n",
    "print (\"In the year 1957, there are\", dfActor1957.shape[0],\"leading (n=1) roles were available to actors,and\",dfActress1957.shape[0],\"leading (n=1) roles were available to actresses.\")\n",
    "print (\"In the year 1958, there are\", dfActor1958.shape[0],\"leading (n=1) roles were available to actors,and\",dfActress1958.shape[0],\"leading (n=1) roles were available to actresses.\")\n",
    "print (\"In the year 1959, there are\", dfActor1959.shape[0],\"leading (n=1) roles were available to actors,and\",dfActress1959.shape[0],\"leading (n=1) roles were available to actresses.\")\n"
   ]
  },
  {
   "cell_type": "markdown",
   "metadata": {},
   "source": [
    "section 6"
   ]
  },
  {
   "cell_type": "code",
   "execution_count": 79,
   "metadata": {},
   "outputs": [
    {
     "name": "stdout",
     "output_type": "stream",
     "text": [
      "10 actors/actresses that have the most leading roles (n=1) since the 1990's are:\n"
     ]
    },
    {
     "data": {
      "text/plain": [
       "name\n",
       "Mohanlal              126\n",
       "Mammootty             118\n",
       "Akshay Kumar           87\n",
       "Jayaram                76\n",
       "Andy Lau               72\n",
       "Ajay Devgn             69\n",
       "Eric Roberts           68\n",
       "Amitabh Bachchan       68\n",
       "Nagarjuna Akkineni     60\n",
       "Dilip                  59\n",
       "dtype: int64"
      ]
     },
     "execution_count": 79,
     "metadata": {},
     "output_type": "execute_result"
    }
   ],
   "source": [
    "dftemp=df.query('n == 1 and year >= 1990 ')\n",
    "new=dftemp.groupby('name').size()#get row counts per each group of name,by calling .size(), which returns a Series\n",
    "FinalAns=new.sort_values(ascending=False) #Sort values by descending order\n",
    "print(\"10 actors/actresses that have the most leading roles (n=1) since the 1990's are:\")\n",
    "FinalAns.head(10)\n"
   ]
  },
  {
   "cell_type": "code",
   "execution_count": null,
   "metadata": {},
   "outputs": [],
   "source": []
  },
  {
   "cell_type": "markdown",
   "metadata": {},
   "source": [
    "section 7"
   ]
  },
  {
   "cell_type": "code",
   "execution_count": 95,
   "metadata": {},
   "outputs": [
    {
     "data": {
      "text/plain": [
       "title                                           year\n",
       "The Muppet Movie                                1979    8\n",
       "Star Wars: Episode V - The Empire Strikes Back  1980    1\n",
       "The Blues Brothers                              1980    1\n",
       "An American Werewolf in London                  1981    2\n",
       "The Great Muppet Caper                          1981    6\n",
       "The Dark Crystal                                1982    2\n",
       "Star Wars: Episode VI - Return of the Jedi      1983    1\n",
       "Superman III                                    1983    1\n",
       "Trading Places                                  1983    1\n",
       "The Muppets Take Manhattan                      1984    7\n",
       "Sesame Street Presents: Follow that Bird        1985    3\n",
       "Spies Like Us                                   1985    1\n",
       "Labyrinth                                       1986    1\n",
       "Innocent Blood                                  1992    1\n",
       "The Muppet Christmas Carol                      1992    7\n",
       "Muppet Treasure Island                          1996    4\n",
       "Blues Brothers 2000                             1998    1\n",
       "Muppets from Space                              1999    4\n",
       "Star Wars: Episode I - The Phantom Menace       1999    1\n",
       "The Adventures of Elmo in Grouchland            1999    3\n",
       "Monsters, Inc.                                  2001    1\n",
       "Star Wars: Episode II - Attack of the Clones    2002    1\n",
       "Star Wars: Episode III - Revenge of the Sith    2005    1\n",
       "Zathura: A Space Adventure                      2005    1\n",
       "Inside Out                                      2015    1\n",
       "dtype: int64"
      ]
     },
     "execution_count": 95,
     "metadata": {},
     "output_type": "execute_result"
    }
   ],
   "source": [
    "dftemp=df.query('name==\"Frank Oz\" ')\n",
    "groupAns=dftemp.groupby(['title', 'year']).size()\n",
    "FinalAns=groupAns.sort_values(ascending=False) #Sort values by descending order\n",
    "FinalAns.sort_index(level=1)#sort specify index level(in this case- by year) "
   ]
  },
  {
   "cell_type": "code",
   "execution_count": null,
   "metadata": {},
   "outputs": [],
   "source": []
  },
  {
   "cell_type": "code",
   "execution_count": null,
   "metadata": {},
   "outputs": [],
   "source": [
    "dftemp=df.query('n > 1 and name==\"Frank Oz\" ')\n",
    "#sortByYear=\n",
    "dftemp.sort_values(by=['year'])\n",
    "#by=sortByYear.groupby('title')\n",
    "\n"
   ]
  },
  {
   "cell_type": "code",
   "execution_count": null,
   "metadata": {},
   "outputs": [],
   "source": []
  },
  {
   "cell_type": "code",
   "execution_count": null,
   "metadata": {},
   "outputs": [],
   "source": []
  }
 ],
 "metadata": {
  "kernelspec": {
   "display_name": "Python 3",
   "language": "python",
   "name": "python3"
  },
  "language_info": {
   "codemirror_mode": {
    "name": "ipython",
    "version": 3
   },
   "file_extension": ".py",
   "mimetype": "text/x-python",
   "name": "python",
   "nbconvert_exporter": "python",
   "pygments_lexer": "ipython3",
   "version": "3.8.3"
  }
 },
 "nbformat": 4,
 "nbformat_minor": 4
}
