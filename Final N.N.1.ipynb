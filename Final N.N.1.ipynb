{
 "cells": [
  {
   "cell_type": "markdown",
   "metadata": {},
   "source": [
    "probability-base"
   ]
  },
  {
   "cell_type": "markdown",
   "metadata": {},
   "source": [
    "# <b>Q.N.1</b>"
   ]
  },
  {
   "cell_type": "markdown",
   "metadata": {},
   "source": [
    "<b>S.N.1</b><br>\n",
    "\n",
    "About $\\frac{1}{125}$ of births are non-identical twins, and $\\frac{1}{300}$ of births are identical twins.<br> \n",
    "Elvis had a twin brother who died at birth.<br>\n",
    "What is the probability that Elvis was an identical twin?<br>\n",
    "(It can be assumed that the probability for the birth of a girl and a boy is equal to $\\frac{1}{2}$)<br>\n",
    "\n",
    "<b>Answer-S.N.1</b><br>\n",
    "To answer this question we will use 'Bayes theorem' as we learned, by using the formula: $P(A/B)=\\frac{P(B/A) \\times P(A)}{P(B)}$<br>\n",
    "\n",
    "We will define: <br><b>A</b>-event of identical boys twins<br> \n",
    "<b>b</b>-case of twin boys <br>\n",
    "The probability of non-identical twins -  $\\frac{1}{2} \\times \\frac{1}{2} \\times \\frac{1}{125} =\\frac{1}{500}$<br>\n",
    "$P(A)$=the probability of same gender (boys ond girls equaly) at births of indentical twins. <br>\n",
    "$P(A)=\\frac{1}{300} \\times \\frac{1}{2}$=$\\frac{1}{600}$ ($\\frac{1}{2}$ because its the same gender in case of identical twins) <br>\n",
    "\n",
    "$P(B)$=the probability of 2 twin boys - both cases such as births of non-identical births and also identical births.  <br>\n",
    "$P(B)=(\\frac{1}{125} \\times \\frac{1}{2} \\times \\frac{1}{2} )+ (\\frac{1}{300} \\times \\frac{1}{2}) $=$\\frac{11}{3000}$ <br>\n",
    "\n",
    "now we need to find $P(B/A)$-meaning given the case of birth of indentical twins, what is the probability of 2 boys?<br> \n",
    "We will use the formula as we learned:<br>\n",
    "$P(B/A)=\\frac{P(B \\cap A)}{P(A)}$<br>\n",
    "The meaning of $P(B \\cap A)$ is the case that the twin boys are also twin boys and also identical boys twins- there is correlation between cases so we need to refer only to the case of $P(A)$, means we can say:$P(B \\cap A)=P(A)=\\frac{1}{600}$ <br>\n",
    "back to the formula:$P(B/A)=\\frac{P(B \\cap A)}{P(A)}=\\frac{P(A)}{P(A)}=1$<br>\n",
    "\n",
    "now we will use again the formula of Bayes' theorem: $P(A/B)=\\frac{P(B/A) \\times P(A)}{P(B)}$<br>\n",
    "we will set the specific values:<br>\n",
    "$P(A/B)=\\frac{1 \\times \\frac{1}{600}} {\\frac{11}{3000}}= \\frac{5}{11} $<br>\n",
    "\n",
    "The probability that Elvis was an identical twin is:$\\frac{5}{11} $<br>\n",
    "\n",
    "<b>S.N.2</b>\n",
    "\n",
    "There are 2 bowls of cookies. first bowl contains 10 almonds cookies, and 30 chocolate cookies.<br>\n",
    "second bowl contains 20 almonds cookies, and 20 chocolate cookies.<br>\n",
    "Eric chose random bowl and chose random cookie. the chosen cookie was chocolate.<br>\n",
    "What is the probability that Eric chose the first bowl?<br>\n",
    "\n",
    "<b>Answer-S.N.2</b><br>\n",
    "To answer this question we will use 'Bayes Theorem' as we learned, by using the formula: $P(A/B)=\\frac{P(B/A) \\times P(A)}{P(B)}$<br>\n",
    "\n",
    "We will define: <br>\n",
    "The probability to choose chocolate cookie from the first bowl: $\\frac{30}{40} \\times \\frac{1}{2}  =\\frac{3}{8}$<br> \n",
    "The probability to choose chocolate cookie from the seconed bowl: $\\frac{20}{40} \\times \\frac{1}{2}  =\\frac{1}{4}$<br> \n",
    " \n",
    "\n",
    "We will define: <br>\n",
    "$P(B)$=The probability to choose chocolate cookie from both bowls:<br>\n",
    "$P(B)$=$\\frac{3}{8} + \\frac{1}{4}  =\\frac{5}{8}$<br>\n",
    "$P(A)$=The probability to choose the first bowl. <br>\n",
    "$P(A)$=$\\frac{1}{2}$<br>\n",
    "\n",
    "We will use the formula as we learned:<br>\n",
    "$P(B/A)=\\frac{P(B \\cap A)}{P(A)}$<br>\n",
    "The meaning of $P(B \\cap A)$ is the case that we choose chocolate cookie from the first bowl-means we can say:$P(B \\cap A)=\\frac{30}{40} \\times \\frac{1}{2}=\\frac{3}{8}$ <br>\n",
    "\n",
    "back to the formula:$P(B/A)=\\frac{P(B \\cap A)}{P(A)}=\\frac{\\frac{3}{8}} {\\frac{1}{2}}=\\frac{3}{4}$<br>\n",
    "\n",
    "now we will use again the formula of 'Bayes theorem': $P(A/B)=\\frac{P(B/A) \\times P(A)}{P(B)}$<br>\n",
    "we will set the specific values:<br>\n",
    "$P(A/B)=\\frac{\\frac{3}{4} \\times \\frac{1}{2}} {\\frac{5}{8}}= \\frac{5}{11} $<br>\n",
    "\n",
    "The probability that Arik choose the first bowl in given case that he chose random bowl and random cookie and get chocolate cookie is:$\\frac{3}{5} $<br>"
   ]
  },
  {
   "cell_type": "markdown",
   "metadata": {},
   "source": [
    "# <b>Q.N.2</b>"
   ]
  },
  {
   "cell_type": "markdown",
   "metadata": {},
   "source": [
    "In the year 1995, M&M company add the blue color.<br>\n",
    "Before this year,the distribution of the colors in M&M bag was:<br> \n",
    "30% Brown, 20% Yellow, 20% Red, 10% Green, 10% Orange, 10% Tan.<br>\n",
    "Since 1995, the distribution of the colors in M&M bag look like this:<br>\n",
    "24% Blue , 20% Green, 16% Orange, 14% Yellow, 13% Red, 13% Brown.<br>\n",
    "Our friend has 2 bags of M&M- one from 1994, and the other from 1996, and he is not willing to reveal to us which bag belong to which year.<br>\n",
    "He gives us one candy from each bag, one candy is Yellow and other is Green.<br>\n",
    "What is the probability that the Yellow candy was chosen from 1994's bag?<br>\n",
    "\n",
    "<b>Answer</b><br>\n",
    "\n",
    "To answer this question we will use 'Bayes theorem' as we learned, by using the formula: $P(A/B)=\\frac{P(B/A) \\times P(A)}{P(B)}$<br>\n",
    "\n",
    "According to the data we can concluse:<br>\n",
    "The probability to choose Yellow candy from 1994's bag is:\n",
    " $0.2 \\times 0.5=0.1$<br>\n",
    "The probability to choose Yellow candy from 1995's bag is:\n",
    " $0.14 \\times 0.5=0.07$<br>\n",
    "$P(B)$=The probability to choose Yellow candy from both bags:<br>\n",
    "$P(B)=0.1 + 0.07=0.17$<br>\n",
    "$P(A)$=The probability to choose 1994's bag:<br>\n",
    "$P(A)=0.5$<br>\n",
    "The meaning of $P(B \\cap A)$ is the case that we choose Yellow candy from 1994's bag,that is:<br>\n",
    "$P(B \\cap A)=0.5 \\times 0.2=0.1 $<br>\n",
    "\n",
    "We will use the formula as we learned:<br>\n",
    "$P(B/A)=\\frac{P(B \\cap A)}{P(A)}$<br>\n",
    "We will put the data we already have:<br>\n",
    "$P(B/A)=\\frac{0.1}{0.5}=0.2$<br>\n",
    "\n",
    "back to the formula:$P(A/B)=\\frac{P(B/A) \\times P(A)}{P(B)}=\\frac{0.2 \\times 0.5} {0.17}=0.5882=\\frac{10}{17}$<br>\n",
    "\n",
    "The probability that we choose from the 1994's bag, in given case that we chose yellow candy is:$\\frac{10}{17}$<br>\n"
   ]
  },
  {
   "cell_type": "markdown",
   "metadata": {},
   "source": [
    "# <b>Q.N.3</b>"
   ]
  },
  {
   "cell_type": "markdown",
   "metadata": {},
   "source": [
    "<b>S.N.1</b><br>\n",
    "I went to the doctor because of ingrown toenail.<br>\n",
    "The doctor chose randomly to take blood test that check swine flu.<br>\n",
    "It is known statistically that this virus hits one in a 10,000 people in the population.<br>\n",
    "The test is 99% accurate in the sense that the probability of FALSE POSITIVE is 1%.<br>\n",
    "The probability of incorrect classification of health person as sick person is 1% of the cases.<br>\n",
    "The probability of FALSE NEGATIVE is 0-there is no situation the test say on sick person that he is healthy.<br>\n",
    "I came out positive in the test.<br>\n",
    "\n",
    "what is the probability I have swine flu?\n",
    "\n",
    "<b>Answer-S.N.1</b><br>\n",
    "\n",
    "To answer this question we will use 'Bayes theorem' as we learned, by using the formula: $P(A/B)=\\frac{P(B/A) \\times P(A)}{P(B)}$<br>\n",
    "\n",
    "According to the data we can concluse:<br>\n",
    "$P(sick)$=The probability that i'm sick:<br>\n",
    "$P(sick)=\\frac{1}{10,000}$<br>\n",
    "\n",
    "$P(A)$=The probability that i'm sick:<br>\n",
    "$P(A)=\\frac{1}{10,000}$<br>\n",
    "$P(B)$=The probability that the test is positive:<br>\n",
    "\n",
    "\n",
    "<b>S.N.2</b>\n",
    "Suppose that i came back from Thailand, and i know that 1 in a 200 people recently came back from Thailand, have swine flu.<br>\n",
    "In given same situation as section number 1, what is the (fixed) probability I have swine flu?<br>\n",
    "\n",
    "<b>Answer-S.N.2</b><br>\n"
   ]
  },
  {
   "cell_type": "code",
   "execution_count": null,
   "metadata": {},
   "outputs": [],
   "source": []
  }
 ],
 "metadata": {
  "kernelspec": {
   "display_name": "Python 3",
   "language": "python",
   "name": "python3"
  },
  "language_info": {
   "codemirror_mode": {
    "name": "ipython",
    "version": 3
   },
   "file_extension": ".py",
   "mimetype": "text/x-python",
   "name": "python",
   "nbconvert_exporter": "python",
   "pygments_lexer": "ipython3",
   "version": "3.8.3"
  }
 },
 "nbformat": 4,
 "nbformat_minor": 4
}
